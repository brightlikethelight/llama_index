{
 "cells": [
  {
   "cell_type": "markdown",
   "metadata": {},
   "source": [
    "# ORCID Reader Demo\n",
    "\n",
    "This notebook demonstrates how to use the ORCID Reader to retrieve researcher profiles and build a searchable index."
   ]
  },
  {
   "cell_type": "markdown",
   "metadata": {},
   "source": [
    "## Installation\n",
    "\n",
    "First, install the required packages:"
   ]
  },
  {
   "cell_type": "code",
   "execution_count": 3,
   "metadata": {},
   "outputs": [
    {
     "name": "stdout",
     "output_type": "stream",
     "text": [
      "Requirement already satisfied: llama-index-readers-orcid in /Users/brightliu/Coding_Projects/open-source-projects/llamaindex-solana-env/lib/python3.11/site-packages (0.1.0)\n",
      "Requirement already satisfied: llama-index-core in /Users/brightliu/Coding_Projects/open-source-projects/llamaindex-solana-env/lib/python3.11/site-packages (0.12.50)\n",
      "Requirement already satisfied: requests>=2.25.0 in /Users/brightliu/Coding_Projects/open-source-projects/llamaindex-solana-env/lib/python3.11/site-packages (from llama-index-readers-orcid) (2.32.4)\n",
      "Requirement already satisfied: aiohttp<4,>=3.8.6 in /Users/brightliu/Coding_Projects/open-source-projects/llamaindex-solana-env/lib/python3.11/site-packages (from llama-index-core) (3.12.14)\n",
      "Requirement already satisfied: aiosqlite in /Users/brightliu/Coding_Projects/open-source-projects/llamaindex-solana-env/lib/python3.11/site-packages (from llama-index-core) (0.21.0)\n",
      "Requirement already satisfied: banks<3,>=2.0.0 in /Users/brightliu/Coding_Projects/open-source-projects/llamaindex-solana-env/lib/python3.11/site-packages (from llama-index-core) (2.2.0)\n",
      "Requirement already satisfied: dataclasses-json in /Users/brightliu/Coding_Projects/open-source-projects/llamaindex-solana-env/lib/python3.11/site-packages (from llama-index-core) (0.6.7)\n",
      "Requirement already satisfied: deprecated>=1.2.9.3 in /Users/brightliu/Coding_Projects/open-source-projects/llamaindex-solana-env/lib/python3.11/site-packages (from llama-index-core) (1.2.18)\n",
      "Requirement already satisfied: dirtyjson<2,>=1.0.8 in /Users/brightliu/Coding_Projects/open-source-projects/llamaindex-solana-env/lib/python3.11/site-packages (from llama-index-core) (1.0.8)\n",
      "Requirement already satisfied: filetype<2,>=1.2.0 in /Users/brightliu/Coding_Projects/open-source-projects/llamaindex-solana-env/lib/python3.11/site-packages (from llama-index-core) (1.2.0)\n",
      "Requirement already satisfied: fsspec>=2023.5.0 in /Users/brightliu/Coding_Projects/open-source-projects/llamaindex-solana-env/lib/python3.11/site-packages (from llama-index-core) (2025.7.0)\n",
      "Requirement already satisfied: httpx in /Users/brightliu/Coding_Projects/open-source-projects/llamaindex-solana-env/lib/python3.11/site-packages (from llama-index-core) (0.28.1)\n",
      "Requirement already satisfied: llama-index-workflows<2,>=1.0.1 in /Users/brightliu/Coding_Projects/open-source-projects/llamaindex-solana-env/lib/python3.11/site-packages (from llama-index-core) (1.1.0)\n",
      "Requirement already satisfied: nest-asyncio<2,>=1.5.8 in /Users/brightliu/Coding_Projects/open-source-projects/llamaindex-solana-env/lib/python3.11/site-packages (from llama-index-core) (1.6.0)\n",
      "Requirement already satisfied: networkx>=3.0 in /Users/brightliu/Coding_Projects/open-source-projects/llamaindex-solana-env/lib/python3.11/site-packages (from llama-index-core) (3.5)\n",
      "Requirement already satisfied: nltk>3.8.1 in /Users/brightliu/Coding_Projects/open-source-projects/llamaindex-solana-env/lib/python3.11/site-packages (from llama-index-core) (3.9.1)\n",
      "Requirement already satisfied: numpy in /Users/brightliu/Coding_Projects/open-source-projects/llamaindex-solana-env/lib/python3.11/site-packages (from llama-index-core) (2.3.1)\n",
      "Requirement already satisfied: pillow>=9.0.0 in /Users/brightliu/Coding_Projects/open-source-projects/llamaindex-solana-env/lib/python3.11/site-packages (from llama-index-core) (11.3.0)\n",
      "Requirement already satisfied: platformdirs in /Users/brightliu/Coding_Projects/open-source-projects/llamaindex-solana-env/lib/python3.11/site-packages (from llama-index-core) (4.3.8)\n",
      "Requirement already satisfied: pydantic>=2.8.0 in /Users/brightliu/Coding_Projects/open-source-projects/llamaindex-solana-env/lib/python3.11/site-packages (from llama-index-core) (2.11.7)\n",
      "Requirement already satisfied: pyyaml>=6.0.1 in /Users/brightliu/Coding_Projects/open-source-projects/llamaindex-solana-env/lib/python3.11/site-packages (from llama-index-core) (6.0.2)\n",
      "Requirement already satisfied: setuptools>=80.9.0 in /Users/brightliu/Coding_Projects/open-source-projects/llamaindex-solana-env/lib/python3.11/site-packages (from llama-index-core) (80.9.0)\n",
      "Requirement already satisfied: sqlalchemy[asyncio]>=1.4.49 in /Users/brightliu/Coding_Projects/open-source-projects/llamaindex-solana-env/lib/python3.11/site-packages (from llama-index-core) (2.0.41)\n",
      "Requirement already satisfied: tenacity!=8.4.0,<10.0.0,>=8.2.0 in /Users/brightliu/Coding_Projects/open-source-projects/llamaindex-solana-env/lib/python3.11/site-packages (from llama-index-core) (9.1.2)\n",
      "Requirement already satisfied: tiktoken>=0.7.0 in /Users/brightliu/Coding_Projects/open-source-projects/llamaindex-solana-env/lib/python3.11/site-packages (from llama-index-core) (0.9.0)\n",
      "Requirement already satisfied: tqdm<5,>=4.66.1 in /Users/brightliu/Coding_Projects/open-source-projects/llamaindex-solana-env/lib/python3.11/site-packages (from llama-index-core) (4.67.1)\n",
      "Requirement already satisfied: typing-extensions>=4.5.0 in /Users/brightliu/Coding_Projects/open-source-projects/llamaindex-solana-env/lib/python3.11/site-packages (from llama-index-core) (4.14.1)\n",
      "Requirement already satisfied: typing-inspect>=0.8.0 in /Users/brightliu/Coding_Projects/open-source-projects/llamaindex-solana-env/lib/python3.11/site-packages (from llama-index-core) (0.9.0)\n",
      "Requirement already satisfied: wrapt in /Users/brightliu/Coding_Projects/open-source-projects/llamaindex-solana-env/lib/python3.11/site-packages (from llama-index-core) (1.17.2)\n",
      "Requirement already satisfied: aiohappyeyeballs>=2.5.0 in /Users/brightliu/Coding_Projects/open-source-projects/llamaindex-solana-env/lib/python3.11/site-packages (from aiohttp<4,>=3.8.6->llama-index-core) (2.6.1)\n",
      "Requirement already satisfied: aiosignal>=1.4.0 in /Users/brightliu/Coding_Projects/open-source-projects/llamaindex-solana-env/lib/python3.11/site-packages (from aiohttp<4,>=3.8.6->llama-index-core) (1.4.0)\n",
      "Requirement already satisfied: attrs>=17.3.0 in /Users/brightliu/Coding_Projects/open-source-projects/llamaindex-solana-env/lib/python3.11/site-packages (from aiohttp<4,>=3.8.6->llama-index-core) (25.3.0)\n",
      "Requirement already satisfied: frozenlist>=1.1.1 in /Users/brightliu/Coding_Projects/open-source-projects/llamaindex-solana-env/lib/python3.11/site-packages (from aiohttp<4,>=3.8.6->llama-index-core) (1.7.0)\n",
      "Requirement already satisfied: multidict<7.0,>=4.5 in /Users/brightliu/Coding_Projects/open-source-projects/llamaindex-solana-env/lib/python3.11/site-packages (from aiohttp<4,>=3.8.6->llama-index-core) (6.6.3)\n",
      "Requirement already satisfied: propcache>=0.2.0 in /Users/brightliu/Coding_Projects/open-source-projects/llamaindex-solana-env/lib/python3.11/site-packages (from aiohttp<4,>=3.8.6->llama-index-core) (0.3.2)\n",
      "Requirement already satisfied: yarl<2.0,>=1.17.0 in /Users/brightliu/Coding_Projects/open-source-projects/llamaindex-solana-env/lib/python3.11/site-packages (from aiohttp<4,>=3.8.6->llama-index-core) (1.20.1)\n",
      "Requirement already satisfied: griffe in /Users/brightliu/Coding_Projects/open-source-projects/llamaindex-solana-env/lib/python3.11/site-packages (from banks<3,>=2.0.0->llama-index-core) (1.7.3)\n",
      "Requirement already satisfied: jinja2 in /Users/brightliu/Coding_Projects/open-source-projects/llamaindex-solana-env/lib/python3.11/site-packages (from banks<3,>=2.0.0->llama-index-core) (3.1.6)\n",
      "Requirement already satisfied: llama-index-instrumentation>=0.1.0 in /Users/brightliu/Coding_Projects/open-source-projects/llamaindex-solana-env/lib/python3.11/site-packages (from llama-index-workflows<2,>=1.0.1->llama-index-core) (0.3.0)\n",
      "Requirement already satisfied: click in /Users/brightliu/Coding_Projects/open-source-projects/llamaindex-solana-env/lib/python3.11/site-packages (from nltk>3.8.1->llama-index-core) (8.2.1)\n",
      "Requirement already satisfied: joblib in /Users/brightliu/Coding_Projects/open-source-projects/llamaindex-solana-env/lib/python3.11/site-packages (from nltk>3.8.1->llama-index-core) (1.5.1)\n",
      "Requirement already satisfied: regex>=2021.8.3 in /Users/brightliu/Coding_Projects/open-source-projects/llamaindex-solana-env/lib/python3.11/site-packages (from nltk>3.8.1->llama-index-core) (2024.11.6)\n",
      "Requirement already satisfied: annotated-types>=0.6.0 in /Users/brightliu/Coding_Projects/open-source-projects/llamaindex-solana-env/lib/python3.11/site-packages (from pydantic>=2.8.0->llama-index-core) (0.7.0)\n",
      "Requirement already satisfied: pydantic-core==2.33.2 in /Users/brightliu/Coding_Projects/open-source-projects/llamaindex-solana-env/lib/python3.11/site-packages (from pydantic>=2.8.0->llama-index-core) (2.33.2)\n",
      "Requirement already satisfied: typing-inspection>=0.4.0 in /Users/brightliu/Coding_Projects/open-source-projects/llamaindex-solana-env/lib/python3.11/site-packages (from pydantic>=2.8.0->llama-index-core) (0.4.1)\n",
      "Requirement already satisfied: charset_normalizer<4,>=2 in /Users/brightliu/Coding_Projects/open-source-projects/llamaindex-solana-env/lib/python3.11/site-packages (from requests>=2.25.0->llama-index-readers-orcid) (3.4.2)\n",
      "Requirement already satisfied: idna<4,>=2.5 in /Users/brightliu/Coding_Projects/open-source-projects/llamaindex-solana-env/lib/python3.11/site-packages (from requests>=2.25.0->llama-index-readers-orcid) (3.10)\n",
      "Requirement already satisfied: urllib3<3,>=1.21.1 in /Users/brightliu/Coding_Projects/open-source-projects/llamaindex-solana-env/lib/python3.11/site-packages (from requests>=2.25.0->llama-index-readers-orcid) (2.5.0)\n",
      "Requirement already satisfied: certifi>=2017.4.17 in /Users/brightliu/Coding_Projects/open-source-projects/llamaindex-solana-env/lib/python3.11/site-packages (from requests>=2.25.0->llama-index-readers-orcid) (2025.7.14)\n",
      "Requirement already satisfied: greenlet>=1 in /Users/brightliu/Coding_Projects/open-source-projects/llamaindex-solana-env/lib/python3.11/site-packages (from sqlalchemy[asyncio]>=1.4.49->llama-index-core) (3.2.3)\n",
      "Requirement already satisfied: mypy-extensions>=0.3.0 in /Users/brightliu/Coding_Projects/open-source-projects/llamaindex-solana-env/lib/python3.11/site-packages (from typing-inspect>=0.8.0->llama-index-core) (1.1.0)\n",
      "Requirement already satisfied: marshmallow<4.0.0,>=3.18.0 in /Users/brightliu/Coding_Projects/open-source-projects/llamaindex-solana-env/lib/python3.11/site-packages (from dataclasses-json->llama-index-core) (3.26.1)\n",
      "Requirement already satisfied: anyio in /Users/brightliu/Coding_Projects/open-source-projects/llamaindex-solana-env/lib/python3.11/site-packages (from httpx->llama-index-core) (4.9.0)\n",
      "Requirement already satisfied: httpcore==1.* in /Users/brightliu/Coding_Projects/open-source-projects/llamaindex-solana-env/lib/python3.11/site-packages (from httpx->llama-index-core) (1.0.9)\n",
      "Requirement already satisfied: h11>=0.16 in /Users/brightliu/Coding_Projects/open-source-projects/llamaindex-solana-env/lib/python3.11/site-packages (from httpcore==1.*->httpx->llama-index-core) (0.16.0)\n",
      "Requirement already satisfied: packaging>=17.0 in /Users/brightliu/Coding_Projects/open-source-projects/llamaindex-solana-env/lib/python3.11/site-packages (from marshmallow<4.0.0,>=3.18.0->dataclasses-json->llama-index-core) (25.0)\n",
      "Requirement already satisfied: sniffio>=1.1 in /Users/brightliu/Coding_Projects/open-source-projects/llamaindex-solana-env/lib/python3.11/site-packages (from anyio->httpx->llama-index-core) (1.3.1)\n",
      "Requirement already satisfied: colorama>=0.4 in /Users/brightliu/Coding_Projects/open-source-projects/llamaindex-solana-env/lib/python3.11/site-packages (from griffe->banks<3,>=2.0.0->llama-index-core) (0.4.6)\n",
      "Requirement already satisfied: MarkupSafe>=2.0 in /Users/brightliu/Coding_Projects/open-source-projects/llamaindex-solana-env/lib/python3.11/site-packages (from jinja2->banks<3,>=2.0.0->llama-index-core) (3.0.2)\n",
      "\n",
      "\u001b[1m[\u001b[0m\u001b[34;49mnotice\u001b[0m\u001b[1;39;49m]\u001b[0m\u001b[39;49m A new release of pip is available: \u001b[0m\u001b[31;49m23.2.1\u001b[0m\u001b[39;49m -> \u001b[0m\u001b[32;49m25.1.1\u001b[0m\n",
      "\u001b[1m[\u001b[0m\u001b[34;49mnotice\u001b[0m\u001b[1;39;49m]\u001b[0m\u001b[39;49m To update, run: \u001b[0m\u001b[32;49mpip install --upgrade pip\u001b[0m\n"
     ]
    }
   ],
   "source": [
    "!pip install llama-index-readers-orcid llama-index-core"
   ]
  },
  {
   "cell_type": "markdown",
   "metadata": {},
   "source": [
    "!pip install llama-index-readers-orcid"
   ]
  },
  {
   "cell_type": "markdown",
   "metadata": {},
   "source": [
    "## Basic Usage"
   ]
  },
  {
   "cell_type": "code",
   "execution_count": 4,
   "metadata": {},
   "outputs": [
    {
     "ename": "ModuleNotFoundError",
     "evalue": "No module named 'llama_index.core'",
     "output_type": "error",
     "traceback": [
      "\u001b[31m---------------------------------------------------------------------------\u001b[39m",
      "\u001b[31mModuleNotFoundError\u001b[39m                       Traceback (most recent call last)",
      "\u001b[36mCell\u001b[39m\u001b[36m \u001b[39m\u001b[32mIn[4]\u001b[39m\u001b[32m, line 1\u001b[39m\n\u001b[32m----> \u001b[39m\u001b[32m1\u001b[39m \u001b[38;5;28;01mfrom\u001b[39;00m\u001b[38;5;250m \u001b[39m\u001b[34;01mllama_index\u001b[39;00m\u001b[34;01m.\u001b[39;00m\u001b[34;01mreaders\u001b[39;00m\u001b[34;01m.\u001b[39;00m\u001b[34;01morcid\u001b[39;00m\u001b[38;5;250m \u001b[39m\u001b[38;5;28;01mimport\u001b[39;00m ORCIDReader\n\u001b[32m      2\u001b[39m \u001b[38;5;28;01mfrom\u001b[39;00m\u001b[38;5;250m \u001b[39m\u001b[34;01mllama_index\u001b[39;00m\u001b[34;01m.\u001b[39;00m\u001b[34;01mcore\u001b[39;00m\u001b[38;5;250m \u001b[39m\u001b[38;5;28;01mimport\u001b[39;00m VectorStoreIndex\n\u001b[32m      4\u001b[39m \u001b[38;5;66;03m# Initialize the ORCID reader\u001b[39;00m\n",
      "\u001b[36mFile \u001b[39m\u001b[32m~/Coding_Projects/open-source-projects/llama_index/llama-index-integrations/readers/llama-index-readers-orcid/llama_index/readers/orcid/__init__.py:1\u001b[39m\n\u001b[32m----> \u001b[39m\u001b[32m1\u001b[39m \u001b[38;5;28;01mfrom\u001b[39;00m\u001b[38;5;250m \u001b[39m\u001b[34;01mllama_index\u001b[39;00m\u001b[34;01m.\u001b[39;00m\u001b[34;01mreaders\u001b[39;00m\u001b[34;01m.\u001b[39;00m\u001b[34;01morcid\u001b[39;00m\u001b[34;01m.\u001b[39;00m\u001b[34;01mbase\u001b[39;00m\u001b[38;5;250m \u001b[39m\u001b[38;5;28;01mimport\u001b[39;00m ORCIDReader\n\u001b[32m      3\u001b[39m __all__ = [\u001b[33m\"\u001b[39m\u001b[33mORCIDReader\u001b[39m\u001b[33m\"\u001b[39m]\n",
      "\u001b[36mFile \u001b[39m\u001b[32m~/Coding_Projects/open-source-projects/llama_index/llama-index-integrations/readers/llama-index-readers-orcid/llama_index/readers/orcid/base.py:13\u001b[39m\n\u001b[32m     10\u001b[39m \u001b[38;5;28;01mfrom\u001b[39;00m\u001b[38;5;250m \u001b[39m\u001b[34;01murllib\u001b[39;00m\u001b[34;01m.\u001b[39;00m\u001b[34;01mparse\u001b[39;00m\u001b[38;5;250m \u001b[39m\u001b[38;5;28;01mimport\u001b[39;00m urljoin\n\u001b[32m     12\u001b[39m \u001b[38;5;28;01mimport\u001b[39;00m\u001b[38;5;250m \u001b[39m\u001b[34;01mrequests\u001b[39;00m\n\u001b[32m---> \u001b[39m\u001b[32m13\u001b[39m \u001b[38;5;28;01mfrom\u001b[39;00m\u001b[38;5;250m \u001b[39m\u001b[34;01mllama_index\u001b[39;00m\u001b[34;01m.\u001b[39;00m\u001b[34;01mcore\u001b[39;00m\u001b[34;01m.\u001b[39;00m\u001b[34;01mreaders\u001b[39;00m\u001b[34;01m.\u001b[39;00m\u001b[34;01mbase\u001b[39;00m\u001b[38;5;250m \u001b[39m\u001b[38;5;28;01mimport\u001b[39;00m BaseReader\n\u001b[32m     14\u001b[39m \u001b[38;5;28;01mfrom\u001b[39;00m\u001b[38;5;250m \u001b[39m\u001b[34;01mllama_index\u001b[39;00m\u001b[34;01m.\u001b[39;00m\u001b[34;01mcore\u001b[39;00m\u001b[34;01m.\u001b[39;00m\u001b[34;01mschema\u001b[39;00m\u001b[38;5;250m \u001b[39m\u001b[38;5;28;01mimport\u001b[39;00m Document\n\u001b[32m     16\u001b[39m logger = logging.getLogger(\u001b[34m__name__\u001b[39m)\n",
      "\u001b[31mModuleNotFoundError\u001b[39m: No module named 'llama_index.core'"
     ]
    }
   ],
   "source": [
    "from llama_index.readers.orcid import ORCIDReader\n",
    "from llama_index.core import VectorStoreIndex\n",
    "\n",
    "# Initialize the ORCID reader\n",
    "reader = ORCIDReader()\n",
    "\n",
    "# Some example ORCID IDs (these are real public profiles)\n",
    "orcid_ids = [\n",
    "    \"0000-0002-1825-0097\",  # Josiah Carberry (fictional test profile)\n",
    "    \"0000-0003-1419-2405\",  # Another public profile\n",
    "]\n",
    "\n",
    "# Load the data\n",
    "documents = reader.load_data(orcid_ids=orcid_ids)\n",
    "\n",
    "print(f\"Loaded {len(documents)} researcher profiles\")"
   ]
  },
  {
   "cell_type": "markdown",
   "metadata": {},
   "source": [
    "## Exploring the Data"
   ]
  },
  {
   "cell_type": "code",
   "execution_count": null,
   "metadata": {},
   "outputs": [],
   "source": [
    "# Look at the first researcher profile\n",
    "if documents:\n",
    "    first_doc = documents[0]\n",
    "    print(\"Researcher Profile:\")\n",
    "    print(\"=\" * 50)\n",
    "    print(first_doc.text[:1000] + \"...\" if len(first_doc.text) > 1000 else first_doc.text)\n",
    "    print(\"\\nMetadata:\")\n",
    "    print(first_doc.metadata)"
   ]
  },
  {
   "cell_type": "markdown",
   "metadata": {},
   "source": [
    "## Building a Searchable Index"
   ]
  },
  {
   "cell_type": "code",
   "execution_count": null,
   "metadata": {},
   "outputs": [],
   "source": [
    "# Create a vector store index from the documents\n",
    "index = VectorStoreIndex.from_documents(documents)\n",
    "\n",
    "# Create a query engine\n",
    "query_engine = index.as_query_engine()\n",
    "\n",
    "print(\"Index created successfully!\")"
   ]
  },
  {
   "cell_type": "markdown",
   "metadata": {},
   "source": [
    "## Querying the Research Data"
   ]
  },
  {
   "cell_type": "code",
   "execution_count": null,
   "metadata": {},
   "outputs": [],
   "source": [
    "# Query the index\n",
    "response = query_engine.query(\"What research areas are these researchers involved in?\")\n",
    "print(\"Query: What research areas are these researchers involved in?\")\n",
    "print(\"Response:\", response)"
   ]
  },
  {
   "cell_type": "code",
   "execution_count": null,
   "metadata": {},
   "outputs": [],
   "source": [
    "# Another query\n",
    "response = query_engine.query(\"Where do these researchers work?\")\n",
    "print(\"Query: Where do these researchers work?\")\n",
    "print(\"Response:\", response)"
   ]
  },
  {
   "cell_type": "markdown",
   "metadata": {},
   "source": [
    "## Advanced Configuration"
   ]
  },
  {
   "cell_type": "code",
   "execution_count": null,
   "metadata": {},
   "outputs": [],
   "source": [
    "# Create a reader with custom configuration\n",
    "custom_reader = ORCIDReader(\n",
    "    sandbox=False,  # Use production ORCID (default)\n",
    "    include_works=True,  # Include publications (default)\n",
    "    include_employment=True,  # Include employment history (default)\n",
    "    include_education=True,  # Include education history (default)\n",
    "    max_works=20,  # Limit publications per researcher\n",
    "    rate_limit_delay=0.5  # Delay between API calls\n",
    ")\n",
    "\n",
    "print(\"Custom reader configured\")"
   ]
  },
  {
   "cell_type": "markdown",
   "metadata": {},
   "source": [
    "## Profile-Only Mode"
   ]
  },
  {
   "cell_type": "code",
   "execution_count": null,
   "metadata": {},
   "outputs": [],
   "source": [
    "# Create a reader that only gets basic profile information\n",
    "profile_only_reader = ORCIDReader(\n",
    "    include_works=False,\n",
    "    include_employment=False,\n",
    "    include_education=False\n",
    ")\n",
    "\n",
    "# This will be faster as it makes fewer API calls\n",
    "profile_docs = profile_only_reader.load_data([\"0000-0002-1825-0097\"])\n",
    "\n",
    "if profile_docs:\n",
    "    print(\"Profile-only document:\")\n",
    "    print(profile_docs[0].text)"
   ]
  },
  {
   "cell_type": "markdown",
   "metadata": {},
   "source": [
    "## Error Handling"
   ]
  },
  {
   "cell_type": "code",
   "execution_count": null,
   "metadata": {},
   "outputs": [],
   "source": [
    "# The reader handles various error cases gracefully\n",
    "test_ids = [\n",
    "    \"0000-0002-1825-0097\",  # Valid ORCID\n",
    "    \"0000-0000-0000-0000\",  # Invalid/non-existent ORCID\n",
    "    \"invalid-id\"  # Malformed ORCID\n",
    "]\n",
    "\n",
    "# Only valid profiles will be returned\n",
    "error_test_docs = reader.load_data(orcid_ids=test_ids)\n",
    "print(f\"Loaded {len(error_test_docs)} valid profiles out of {len(test_ids)} requested\")"
   ]
  },
  {
   "cell_type": "markdown",
   "metadata": {},
   "source": [
    "## Tips for Usage\n",
    "\n",
    "1. **Rate Limiting**: The reader includes built-in rate limiting to respect ORCID's API limits\n",
    "2. **Public Data Only**: Only publicly available information is retrieved\n",
    "3. **Error Handling**: Invalid or private ORCID IDs are skipped gracefully\n",
    "4. **Flexible Configuration**: Customize what data sections to include based on your needs\n",
    "5. **Batch Processing**: Process multiple researchers in a single call for efficiency"
   ]
  },
  {
   "cell_type": "code",
   "execution_count": null,
   "id": "vkyg5vv6y5o",
   "metadata": {},
   "outputs": [],
   "source": [
    "from llama_index.readers.orcid import ORCIDReader\n",
    "from llama_index.core import VectorStoreIndex\n",
    "\n",
    "# Initialize the ORCID reader\n",
    "reader = ORCIDReader()\n",
    "\n",
    "# Some example ORCID IDs (these are real public profiles)\n",
    "orcid_ids = [\n",
    "    \"0000-0002-1825-0097\",  # Josiah Carberry (fictional test profile)\n",
    "    \"0000-0003-1419-2405\",  # Another public profile\n",
    "]\n",
    "\n",
    "# Load the data\n",
    "documents = reader.load_data(orcid_ids=orcid_ids)\n",
    "\n",
    "print(f\"Loaded {len(documents)} researcher profiles\")"
   ]
  }
 ],
 "metadata": {
  "kernelspec": {
   "display_name": "llamaindex-solana-env",
   "language": "python",
   "name": "python3"
  },
  "language_info": {
   "codemirror_mode": {
    "name": "ipython",
    "version": 3
   },
   "file_extension": ".py",
   "mimetype": "text/x-python",
   "name": "python",
   "nbconvert_exporter": "python",
   "pygments_lexer": "ipython3",
   "version": "3.11.5"
  }
 },
 "nbformat": 4,
 "nbformat_minor": 4
}
